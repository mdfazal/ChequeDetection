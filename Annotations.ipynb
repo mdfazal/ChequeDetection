{
 "cells": [
  {
   "cell_type": "code",
   "execution_count": 1,
   "metadata": {},
   "outputs": [],
   "source": [
    "import pandas as pd\n",
    "import json\n",
    "import os\n",
    "from PIL import Image\n",
    "import numpy as np"
   ]
  },
  {
   "cell_type": "code",
   "execution_count": 2,
   "metadata": {},
   "outputs": [],
   "source": [
    "def coco_to_yolo_coord(v):\n",
    "    width,height,xmin,xmax,ymin,ymax = v[0],v[1],v[2],v[3],v[4],v[5]\n",
    "    x = (xmax-xmin)/2\n",
    "    x = x/width\n",
    "    y= (ymax-ymin)/2\n",
    "    y = y/height\n",
    "    w = xmax-xmin\n",
    "    w = w/width\n",
    "    h = ymax-ymin\n",
    "    h = h/height\n",
    "    return x,y,w,h"
   ]
  },
  {
   "cell_type": "code",
   "execution_count": 3,
   "metadata": {},
   "outputs": [],
   "source": [
    "def coco_class_to_yolo(class_json,w,h):\n",
    "    class_id = class_json['classId'] -1\n",
    "    points = list(class_json['points'].values())\n",
    "    x,y,w,h = coco_to_yolo_coord([w,h]+points)\n",
    "    yolo_string = \"{} {} {} {} {}\".format(str(class_id),x,y,w,h)\n",
    "    return yolo_string"
   ]
  },
  {
   "cell_type": "code",
   "execution_count": 4,
   "metadata": {},
   "outputs": [],
   "source": [
    "files = os.listdir('Annotations')\n",
    "#number of files\n",
    "num_files = len(files)"
   ]
  },
  {
   "cell_type": "code",
   "execution_count": 5,
   "metadata": {},
   "outputs": [],
   "source": [
    "classes_index = files.index('classes.json')"
   ]
  },
  {
   "cell_type": "code",
   "execution_count": 6,
   "metadata": {},
   "outputs": [
    {
     "name": "stdout",
     "output_type": "stream",
     "text": [
      "112\n"
     ]
    }
   ],
   "source": [
    "#superannotate tool stores classes.json in annotations folder\n",
    "classes = files[classes_index]\n",
    "files.remove('classes.json')\n",
    "print(len(files))"
   ]
  },
  {
   "cell_type": "code",
   "execution_count": 7,
   "metadata": {},
   "outputs": [],
   "source": [
    "#Convert coco json of all images to coco\n",
    "for i in files[:]:\n",
    "    image_name = i[:-9]\n",
    "    with open('Annotations/'+image_name+'.png.json') as f:\n",
    "        data = json.load(f)\n",
    "    img = np.asarray(Image.open('Yolo_data/Images/'+image_name+'.jpg'))\n",
    "    h,w = img.shape[0],img.shape[1]\n",
    "    s=\"\"\n",
    "    for j in data['instances']:\n",
    "        s += coco_class_to_yolo(j,w,h)+\"\\n\"\n",
    "    with open('Yolo_data/Images/'+image_name+'.txt','w') as t:\n",
    "        t.write(s)\n",
    "        t.close()\n"
   ]
  },
  {
   "cell_type": "code",
   "execution_count": 8,
   "metadata": {},
   "outputs": [],
   "source": [
    "#generate train.txt\n",
    "train = files[:int(0.8*num_files)]\n",
    "with open('Yolo_data/train.txt','w') as tr:\n",
    "    for i in train:\n",
    "        tr.write('Images/'+i[:-9]+\".jpg\\n\")\n",
    "    tr.close()\n",
    "#generate test.txt\n",
    "test = files[int(0.8*num_files):]\n",
    "with open('Yolo_data/test.txt','w') as te:\n",
    "    for i in test:\n",
    "        te.write('Images/'+i[:-9]+\".jpg\\n\")\n",
    "    te.close()"
   ]
  },
  {
   "cell_type": "code",
   "execution_count": 9,
   "metadata": {},
   "outputs": [],
   "source": [
    "with open('Annotations/classes.json','r') as c:\n",
    "    classes = json.load(c)\n",
    "with open('Yolo_data/obj.names','w') as on:\n",
    "    for i in classes:\n",
    "        on.write(i['name']+'\\n')\n",
    "    on.close()"
   ]
  }
 ],
 "metadata": {
  "kernelspec": {
   "display_name": "Python 3",
   "language": "python",
   "name": "python3"
  },
  "language_info": {
   "codemirror_mode": {
    "name": "ipython",
    "version": 3
   },
   "file_extension": ".py",
   "mimetype": "text/x-python",
   "name": "python",
   "nbconvert_exporter": "python",
   "pygments_lexer": "ipython3",
   "version": "3.8.5"
  }
 },
 "nbformat": 4,
 "nbformat_minor": 4
}
